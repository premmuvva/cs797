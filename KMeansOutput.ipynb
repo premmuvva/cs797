{
 "cells": [
  {
   "cell_type": "code",
   "execution_count": 2,
   "id": "38a63cce",
   "metadata": {},
   "outputs": [],
   "source": [
    "import matplotlib.pyplot as plt\n",
    "from kneed import KneeLocator\n",
    "from sklearn.datasets import make_blobs\n",
    "from sklearn.cluster import KMeans\n",
    "from sklearn.metrics import silhouette_score\n",
    "from sklearn.preprocessing import StandardScaler\n",
    "\n",
    "\n",
    "import pandas as pd\n",
    "import numpy as np\n",
    "import matplotlib.pyplot as plt\n",
    "import seaborn as sns"
   ]
  },
  {
   "cell_type": "code",
   "execution_count": null,
   "id": "67fe7bc1",
   "metadata": {},
   "outputs": [],
   "source": []
  },
  {
   "cell_type": "code",
   "execution_count": 4,
   "id": "9655578f",
   "metadata": {},
   "outputs": [],
   "source": [
    "# scaler = StandardScaler()\n",
    "# scaled_features = scaler.fit_transform(features)"
   ]
  },
  {
   "cell_type": "code",
   "execution_count": null,
   "id": "8076e3bb",
   "metadata": {},
   "outputs": [],
   "source": []
  },
  {
   "cell_type": "code",
   "execution_count": 49,
   "id": "8fdf0dda",
   "metadata": {},
   "outputs": [
    {
     "name": "stdout",
     "output_type": "stream",
     "text": [
      "Collecting kneed\n",
      "  Obtaining dependency information for kneed from https://files.pythonhosted.org/packages/9a/1b/7e726d8616e813007874468c61790099ba21493e0ea07561b7d9fc53151c/kneed-0.8.5-py3-none-any.whl.metadata\n",
      "  Downloading kneed-0.8.5-py3-none-any.whl.metadata (5.5 kB)\n",
      "Requirement already satisfied: numpy>=1.14.2 in /Users/reddy/miniconda3/lib/python3.10/site-packages (from kneed) (1.24.3)\n",
      "Requirement already satisfied: scipy>=1.0.0 in /Users/reddy/miniconda3/lib/python3.10/site-packages (from kneed) (1.11.3)\n",
      "Downloading kneed-0.8.5-py3-none-any.whl (10 kB)\n",
      "Installing collected packages: kneed\n",
      "Successfully installed kneed-0.8.5\n",
      "Requirement already satisfied: matplotlib in /Users/reddy/miniconda3/lib/python3.10/site-packages (3.8.0)\n",
      "Requirement already satisfied: contourpy>=1.0.1 in /Users/reddy/miniconda3/lib/python3.10/site-packages (from matplotlib) (1.1.1)\n",
      "Requirement already satisfied: cycler>=0.10 in /Users/reddy/miniconda3/lib/python3.10/site-packages (from matplotlib) (0.12.1)\n",
      "Requirement already satisfied: fonttools>=4.22.0 in /Users/reddy/miniconda3/lib/python3.10/site-packages (from matplotlib) (4.43.1)\n",
      "Requirement already satisfied: kiwisolver>=1.0.1 in /Users/reddy/miniconda3/lib/python3.10/site-packages (from matplotlib) (1.4.5)\n",
      "Requirement already satisfied: numpy<2,>=1.21 in /Users/reddy/miniconda3/lib/python3.10/site-packages (from matplotlib) (1.24.3)\n",
      "Requirement already satisfied: packaging>=20.0 in /Users/reddy/miniconda3/lib/python3.10/site-packages (from matplotlib) (23.1)\n",
      "Requirement already satisfied: pillow>=6.2.0 in /Users/reddy/miniconda3/lib/python3.10/site-packages (from matplotlib) (10.0.1)\n",
      "Requirement already satisfied: pyparsing>=2.3.1 in /Users/reddy/miniconda3/lib/python3.10/site-packages (from matplotlib) (3.1.1)\n",
      "Requirement already satisfied: python-dateutil>=2.7 in /Users/reddy/miniconda3/lib/python3.10/site-packages (from matplotlib) (2.8.2)\n",
      "Requirement already satisfied: six>=1.5 in /Users/reddy/miniconda3/lib/python3.10/site-packages (from python-dateutil>=2.7->matplotlib) (1.16.0)\n",
      "Requirement already satisfied: seaborn in /Users/reddy/miniconda3/lib/python3.10/site-packages (0.13.0)\n",
      "Requirement already satisfied: numpy!=1.24.0,>=1.20 in /Users/reddy/miniconda3/lib/python3.10/site-packages (from seaborn) (1.24.3)\n",
      "Requirement already satisfied: pandas>=1.2 in /Users/reddy/miniconda3/lib/python3.10/site-packages (from seaborn) (2.1.1)\n",
      "Requirement already satisfied: matplotlib!=3.6.1,>=3.3 in /Users/reddy/miniconda3/lib/python3.10/site-packages (from seaborn) (3.8.0)\n",
      "Requirement already satisfied: contourpy>=1.0.1 in /Users/reddy/miniconda3/lib/python3.10/site-packages (from matplotlib!=3.6.1,>=3.3->seaborn) (1.1.1)\n",
      "Requirement already satisfied: cycler>=0.10 in /Users/reddy/miniconda3/lib/python3.10/site-packages (from matplotlib!=3.6.1,>=3.3->seaborn) (0.12.1)\n",
      "Requirement already satisfied: fonttools>=4.22.0 in /Users/reddy/miniconda3/lib/python3.10/site-packages (from matplotlib!=3.6.1,>=3.3->seaborn) (4.43.1)\n",
      "Requirement already satisfied: kiwisolver>=1.0.1 in /Users/reddy/miniconda3/lib/python3.10/site-packages (from matplotlib!=3.6.1,>=3.3->seaborn) (1.4.5)\n",
      "Requirement already satisfied: packaging>=20.0 in /Users/reddy/miniconda3/lib/python3.10/site-packages (from matplotlib!=3.6.1,>=3.3->seaborn) (23.1)\n",
      "Requirement already satisfied: pillow>=6.2.0 in /Users/reddy/miniconda3/lib/python3.10/site-packages (from matplotlib!=3.6.1,>=3.3->seaborn) (10.0.1)\n",
      "Requirement already satisfied: pyparsing>=2.3.1 in /Users/reddy/miniconda3/lib/python3.10/site-packages (from matplotlib!=3.6.1,>=3.3->seaborn) (3.1.1)\n",
      "Requirement already satisfied: python-dateutil>=2.7 in /Users/reddy/miniconda3/lib/python3.10/site-packages (from matplotlib!=3.6.1,>=3.3->seaborn) (2.8.2)\n",
      "Requirement already satisfied: pytz>=2020.1 in /Users/reddy/miniconda3/lib/python3.10/site-packages (from pandas>=1.2->seaborn) (2023.3.post1)\n",
      "Requirement already satisfied: tzdata>=2022.1 in /Users/reddy/miniconda3/lib/python3.10/site-packages (from pandas>=1.2->seaborn) (2023.3)\n",
      "Requirement already satisfied: six>=1.5 in /Users/reddy/miniconda3/lib/python3.10/site-packages (from python-dateutil>=2.7->matplotlib!=3.6.1,>=3.3->seaborn) (1.16.0)\n",
      "Requirement already satisfied: pandas in /Users/reddy/miniconda3/lib/python3.10/site-packages (2.1.1)\n",
      "Requirement already satisfied: numpy>=1.22.4 in /Users/reddy/miniconda3/lib/python3.10/site-packages (from pandas) (1.24.3)\n",
      "Requirement already satisfied: python-dateutil>=2.8.2 in /Users/reddy/miniconda3/lib/python3.10/site-packages (from pandas) (2.8.2)\n",
      "Requirement already satisfied: pytz>=2020.1 in /Users/reddy/miniconda3/lib/python3.10/site-packages (from pandas) (2023.3.post1)\n",
      "Requirement already satisfied: tzdata>=2022.1 in /Users/reddy/miniconda3/lib/python3.10/site-packages (from pandas) (2023.3)\n",
      "Requirement already satisfied: six>=1.5 in /Users/reddy/miniconda3/lib/python3.10/site-packages (from python-dateutil>=2.8.2->pandas) (1.16.0)\n",
      "Requirement already satisfied: scikit-learn in /Users/reddy/miniconda3/lib/python3.10/site-packages (1.3.1)\n",
      "Requirement already satisfied: numpy<2.0,>=1.17.3 in /Users/reddy/miniconda3/lib/python3.10/site-packages (from scikit-learn) (1.24.3)\n",
      "Requirement already satisfied: scipy>=1.5.0 in /Users/reddy/miniconda3/lib/python3.10/site-packages (from scikit-learn) (1.11.3)\n",
      "Requirement already satisfied: joblib>=1.1.1 in /Users/reddy/miniconda3/lib/python3.10/site-packages (from scikit-learn) (1.3.2)\n",
      "Requirement already satisfied: threadpoolctl>=2.0.0 in /Users/reddy/miniconda3/lib/python3.10/site-packages (from scikit-learn) (3.2.0)\n"
     ]
    }
   ],
   "source": [
    "# !python -m pip install openpyxl\n",
    "!pip install kneed\n",
    "!pip install matplotlib\n",
    "!pip install seaborn\n",
    "# !conda update -n base -c defaults conda -y\n",
    "# !conda install openpyxl -y\n",
    "# !pip install openpyxl  --upgrade\n",
    "!pip install pandas --upgrade\n",
    "!pip install scikit-learn"
   ]
  },
  {
   "cell_type": "code",
   "execution_count": 7,
   "id": "1653743e",
   "metadata": {},
   "outputs": [],
   "source": [
    "\n",
    "\n"
   ]
  },
  {
   "cell_type": "code",
   "execution_count": 3,
   "id": "11f18e74",
   "metadata": {},
   "outputs": [
    {
     "data": {
      "text/html": [
       "<div>\n",
       "<style scoped>\n",
       "    .dataframe tbody tr th:only-of-type {\n",
       "        vertical-align: middle;\n",
       "    }\n",
       "\n",
       "    .dataframe tbody tr th {\n",
       "        vertical-align: top;\n",
       "    }\n",
       "\n",
       "    .dataframe thead th {\n",
       "        text-align: right;\n",
       "    }\n",
       "</style>\n",
       "<table border=\"1\" class=\"dataframe\">\n",
       "  <thead>\n",
       "    <tr style=\"text-align: right;\">\n",
       "      <th></th>\n",
       "      <th>Name of Satellite, Alternate Names</th>\n",
       "      <th>Current Official Name of Satellite</th>\n",
       "      <th>Country/Org of UN Registry</th>\n",
       "      <th>Country of Operator/Owner</th>\n",
       "      <th>Operator/Owner</th>\n",
       "      <th>Users</th>\n",
       "      <th>Purpose</th>\n",
       "      <th>Detailed Purpose</th>\n",
       "      <th>Class of Orbit</th>\n",
       "      <th>Type of Orbit</th>\n",
       "      <th>...</th>\n",
       "      <th>Unnamed: 58</th>\n",
       "      <th>Unnamed: 59</th>\n",
       "      <th>Unnamed: 60</th>\n",
       "      <th>Unnamed: 61</th>\n",
       "      <th>Unnamed: 62</th>\n",
       "      <th>Unnamed: 63</th>\n",
       "      <th>Unnamed: 64</th>\n",
       "      <th>Unnamed: 65</th>\n",
       "      <th>Unnamed: 66</th>\n",
       "      <th>Unnamed: 67</th>\n",
       "    </tr>\n",
       "  </thead>\n",
       "  <tbody>\n",
       "    <tr>\n",
       "      <th>0</th>\n",
       "      <td>1HOPSAT-TD (1st-generation High Optical Perfor...</td>\n",
       "      <td>1HOPSAT-TD</td>\n",
       "      <td>NR</td>\n",
       "      <td>USA</td>\n",
       "      <td>Hera Systems</td>\n",
       "      <td>Commercial</td>\n",
       "      <td>Earth Observation</td>\n",
       "      <td>Infrared Imaging</td>\n",
       "      <td>LEO</td>\n",
       "      <td>Non-Polar Inclined</td>\n",
       "      <td>...</td>\n",
       "      <td>NaN</td>\n",
       "      <td>NaN</td>\n",
       "      <td>NaN</td>\n",
       "      <td>NaN</td>\n",
       "      <td>NaN</td>\n",
       "      <td>NaN</td>\n",
       "      <td>NaN</td>\n",
       "      <td>NaN</td>\n",
       "      <td>NaN</td>\n",
       "      <td>NaN</td>\n",
       "    </tr>\n",
       "    <tr>\n",
       "      <th>1</th>\n",
       "      <td>Aalto-1</td>\n",
       "      <td>Aalto-1</td>\n",
       "      <td>Finland</td>\n",
       "      <td>Finland</td>\n",
       "      <td>Aalto University</td>\n",
       "      <td>Civil</td>\n",
       "      <td>Technology Development</td>\n",
       "      <td>NaN</td>\n",
       "      <td>LEO</td>\n",
       "      <td>Sun-Synchronous</td>\n",
       "      <td>...</td>\n",
       "      <td>NaN</td>\n",
       "      <td>NaN</td>\n",
       "      <td>NaN</td>\n",
       "      <td>NaN</td>\n",
       "      <td>NaN</td>\n",
       "      <td>NaN</td>\n",
       "      <td>NaN</td>\n",
       "      <td>NaN</td>\n",
       "      <td>NaN</td>\n",
       "      <td>NaN</td>\n",
       "    </tr>\n",
       "    <tr>\n",
       "      <th>2</th>\n",
       "      <td>AAt-4</td>\n",
       "      <td>AAt-4</td>\n",
       "      <td>Denmark</td>\n",
       "      <td>Denmark</td>\n",
       "      <td>University of Aalborg</td>\n",
       "      <td>Civil</td>\n",
       "      <td>Earth Observation</td>\n",
       "      <td>Automatic Identification System (AIS)</td>\n",
       "      <td>LEO</td>\n",
       "      <td>Sun-Synchronous</td>\n",
       "      <td>...</td>\n",
       "      <td>NaN</td>\n",
       "      <td>NaN</td>\n",
       "      <td>NaN</td>\n",
       "      <td>NaN</td>\n",
       "      <td>NaN</td>\n",
       "      <td>NaN</td>\n",
       "      <td>NaN</td>\n",
       "      <td>NaN</td>\n",
       "      <td>NaN</td>\n",
       "      <td>NaN</td>\n",
       "    </tr>\n",
       "    <tr>\n",
       "      <th>3</th>\n",
       "      <td>ABS-2 (Koreasat-8, ST-3)</td>\n",
       "      <td>ABS-2</td>\n",
       "      <td>NR</td>\n",
       "      <td>Multinational</td>\n",
       "      <td>Asia Broadcast Satellite Ltd.</td>\n",
       "      <td>Commercial</td>\n",
       "      <td>Communications</td>\n",
       "      <td>NaN</td>\n",
       "      <td>GEO</td>\n",
       "      <td>NaN</td>\n",
       "      <td>...</td>\n",
       "      <td>NaN</td>\n",
       "      <td>NaN</td>\n",
       "      <td>NaN</td>\n",
       "      <td>NaN</td>\n",
       "      <td>NaN</td>\n",
       "      <td>NaN</td>\n",
       "      <td>NaN</td>\n",
       "      <td>NaN</td>\n",
       "      <td>NaN</td>\n",
       "      <td>NaN</td>\n",
       "    </tr>\n",
       "    <tr>\n",
       "      <th>4</th>\n",
       "      <td>ABS-2A</td>\n",
       "      <td>ABS-2A</td>\n",
       "      <td>NR</td>\n",
       "      <td>Multinational</td>\n",
       "      <td>Asia Broadcast Satellite Ltd.</td>\n",
       "      <td>Commercial</td>\n",
       "      <td>Communications</td>\n",
       "      <td>NaN</td>\n",
       "      <td>GEO</td>\n",
       "      <td>NaN</td>\n",
       "      <td>...</td>\n",
       "      <td>NaN</td>\n",
       "      <td>NaN</td>\n",
       "      <td>NaN</td>\n",
       "      <td>NaN</td>\n",
       "      <td>NaN</td>\n",
       "      <td>NaN</td>\n",
       "      <td>NaN</td>\n",
       "      <td>NaN</td>\n",
       "      <td>NaN</td>\n",
       "      <td>NaN</td>\n",
       "    </tr>\n",
       "  </tbody>\n",
       "</table>\n",
       "<p>5 rows × 68 columns</p>\n",
       "</div>"
      ],
      "text/plain": [
       "                  Name of Satellite, Alternate Names  \\\n",
       "0  1HOPSAT-TD (1st-generation High Optical Perfor...   \n",
       "1                                           Aalto-1    \n",
       "2                                              AAt-4   \n",
       "3                           ABS-2 (Koreasat-8, ST-3)   \n",
       "4                                             ABS-2A   \n",
       "\n",
       "  Current Official Name of Satellite Country/Org of UN Registry  \\\n",
       "0                         1HOPSAT-TD                         NR   \n",
       "1                            Aalto-1                    Finland   \n",
       "2                              AAt-4                    Denmark   \n",
       "3                              ABS-2                         NR   \n",
       "4                             ABS-2A                         NR   \n",
       "\n",
       "  Country of Operator/Owner                 Operator/Owner       Users  \\\n",
       "0                       USA                   Hera Systems  Commercial   \n",
       "1                   Finland               Aalto University       Civil   \n",
       "2                   Denmark          University of Aalborg       Civil   \n",
       "3             Multinational  Asia Broadcast Satellite Ltd.  Commercial   \n",
       "4             Multinational  Asia Broadcast Satellite Ltd.  Commercial   \n",
       "\n",
       "                  Purpose                       Detailed Purpose  \\\n",
       "0       Earth Observation                       Infrared Imaging   \n",
       "1  Technology Development                                    NaN   \n",
       "2       Earth Observation  Automatic Identification System (AIS)   \n",
       "3          Communications                                    NaN   \n",
       "4          Communications                                    NaN   \n",
       "\n",
       "  Class of Orbit       Type of Orbit  ...  Unnamed: 58  Unnamed: 59  \\\n",
       "0            LEO  Non-Polar Inclined  ...          NaN          NaN   \n",
       "1            LEO     Sun-Synchronous  ...          NaN          NaN   \n",
       "2            LEO     Sun-Synchronous  ...          NaN          NaN   \n",
       "3            GEO                 NaN  ...          NaN          NaN   \n",
       "4            GEO                 NaN  ...          NaN          NaN   \n",
       "\n",
       "   Unnamed: 60  Unnamed: 61 Unnamed: 62  Unnamed: 63  Unnamed: 64 Unnamed: 65  \\\n",
       "0          NaN          NaN         NaN          NaN          NaN         NaN   \n",
       "1          NaN          NaN         NaN          NaN          NaN         NaN   \n",
       "2          NaN          NaN         NaN          NaN          NaN         NaN   \n",
       "3          NaN          NaN         NaN          NaN          NaN         NaN   \n",
       "4          NaN          NaN         NaN          NaN          NaN         NaN   \n",
       "\n",
       "  Unnamed: 66 Unnamed: 67  \n",
       "0         NaN         NaN  \n",
       "1         NaN         NaN  \n",
       "2         NaN         NaN  \n",
       "3         NaN         NaN  \n",
       "4         NaN         NaN  \n",
       "\n",
       "[5 rows x 68 columns]"
      ]
     },
     "execution_count": 3,
     "metadata": {},
     "output_type": "execute_result"
    }
   ],
   "source": [
    "# Specify the path to your CSV file\n",
    "excel_file_path = \"UCS-Satellite-Database-1-1-2023.xlsx\"\n",
    "# \"/Users/reddy/Downloads/UCS-Satellite-Database-1-1-2023.xlsx\"\n",
    "\n",
    "# Use pandas to read the CSV file into a DataFrame\n",
    "df_org = pd.read_excel(excel_file_path, engine='openpyxl')\n",
    "\n",
    "# Display the first few rows of the DataFrame\n",
    "df_org.head()"
   ]
  },
  {
   "cell_type": "code",
   "execution_count": 4,
   "id": "65423bc2",
   "metadata": {},
   "outputs": [
    {
     "data": {
      "text/plain": [
       "(6718, 68)"
      ]
     },
     "execution_count": 4,
     "metadata": {},
     "output_type": "execute_result"
    }
   ],
   "source": [
    "df_org.shape"
   ]
  },
  {
   "cell_type": "code",
   "execution_count": 5,
   "id": "4983f134",
   "metadata": {},
   "outputs": [
    {
     "name": "stdout",
     "output_type": "stream",
     "text": [
      "<class 'pandas.core.frame.DataFrame'>\n",
      "RangeIndex: 6718 entries, 0 to 6717\n",
      "Data columns (total 68 columns):\n",
      " #   Column                              Non-Null Count  Dtype  \n",
      "---  ------                              --------------  -----  \n",
      " 0   Name of Satellite, Alternate Names  6718 non-null   object \n",
      " 1   Current Official Name of Satellite  6718 non-null   object \n",
      " 2   Country/Org of UN Registry          6718 non-null   object \n",
      " 3   Country of Operator/Owner           6718 non-null   object \n",
      " 4   Operator/Owner                      6718 non-null   object \n",
      " 5   Users                               6718 non-null   object \n",
      " 6   Purpose                             6718 non-null   object \n",
      " 7   Detailed Purpose                    1167 non-null   object \n",
      " 8   Class of Orbit                      6718 non-null   object \n",
      " 9   Type of Orbit                       6077 non-null   object \n",
      " 10  Longitude of GEO (degrees)          6716 non-null   float64\n",
      " 11  Perigee (km)                        6718 non-null   int64  \n",
      " 12  Apogee (km)                         6718 non-null   int64  \n",
      " 13  Eccentricity                        6718 non-null   float64\n",
      " 14  Inclination (degrees)               6718 non-null   object \n",
      " 15  Period (minutes)                    6674 non-null   float64\n",
      " 16  Launch Mass (kg.)                   6475 non-null   float64\n",
      " 17  Dry Mass (kg.)                      444 non-null    object \n",
      " 18  Power (watts)                       581 non-null    object \n",
      " 19  Date of Launch                      6718 non-null   object \n",
      " 20  Expected Lifetime (yrs.)            4804 non-null   float64\n",
      " 21  Contractor                          6718 non-null   object \n",
      " 22  Country of Contractor               6718 non-null   object \n",
      " 23  Launch Site                         6718 non-null   object \n",
      " 24  Launch Vehicle                      6718 non-null   object \n",
      " 25  COSPAR Number                       6718 non-null   object \n",
      " 26  NORAD Number                        6718 non-null   int64  \n",
      " 27  Comments                            1836 non-null   object \n",
      " 28  Unnamed: 28                         4 non-null      object \n",
      " 29  Source Used for Orbital Data        6426 non-null   object \n",
      " 30  Source                              3209 non-null   object \n",
      " 31  Source.1                            729 non-null    object \n",
      " 32  Source.2                            1856 non-null   object \n",
      " 33  Source.3                            1136 non-null   object \n",
      " 34  Source.4                            735 non-null    object \n",
      " 35  Source.5                            554 non-null    object \n",
      " 36  Source.6                            504 non-null    object \n",
      " 37  Unnamed: 37                         484 non-null    object \n",
      " 38  Unnamed: 38                         484 non-null    object \n",
      " 39  Unnamed: 39                         484 non-null    object \n",
      " 40  Unnamed: 40                         484 non-null    object \n",
      " 41  Unnamed: 41                         484 non-null    object \n",
      " 42  Unnamed: 42                         484 non-null    object \n",
      " 43  Unnamed: 43                         484 non-null    object \n",
      " 44  Unnamed: 44                         484 non-null    object \n",
      " 45  Unnamed: 45                         484 non-null    object \n",
      " 46  Unnamed: 46                         484 non-null    object \n",
      " 47  Unnamed: 47                         484 non-null    object \n",
      " 48  Unnamed: 48                         484 non-null    object \n",
      " 49  Unnamed: 49                         484 non-null    object \n",
      " 50  Unnamed: 50                         484 non-null    object \n",
      " 51  Unnamed: 51                         484 non-null    object \n",
      " 52  Unnamed: 52                         484 non-null    object \n",
      " 53  Unnamed: 53                         484 non-null    object \n",
      " 54  Unnamed: 54                         484 non-null    object \n",
      " 55  Unnamed: 55                         484 non-null    object \n",
      " 56  Unnamed: 56                         484 non-null    object \n",
      " 57  Unnamed: 57                         484 non-null    object \n",
      " 58  Unnamed: 58                         484 non-null    object \n",
      " 59  Unnamed: 59                         484 non-null    object \n",
      " 60  Unnamed: 60                         487 non-null    object \n",
      " 61  Unnamed: 61                         487 non-null    object \n",
      " 62  Unnamed: 62                         486 non-null    object \n",
      " 63  Unnamed: 63                         484 non-null    object \n",
      " 64  Unnamed: 64                         484 non-null    object \n",
      " 65  Unnamed: 65                         484 non-null    object \n",
      " 66  Unnamed: 66                         486 non-null    object \n",
      " 67  Unnamed: 67                         484 non-null    object \n",
      "dtypes: float64(5), int64(3), object(60)\n",
      "memory usage: 3.5+ MB\n"
     ]
    }
   ],
   "source": [
    "df_org.info()"
   ]
  },
  {
   "cell_type": "code",
   "execution_count": 6,
   "id": "6ea7a79a",
   "metadata": {},
   "outputs": [
    {
     "name": "stdout",
     "output_type": "stream",
     "text": [
      "<class 'pandas.core.frame.DataFrame'>\n",
      "RangeIndex: 6718 entries, 0 to 6717\n",
      "Data columns (total 27 columns):\n",
      " #   Column                              Non-Null Count  Dtype  \n",
      "---  ------                              --------------  -----  \n",
      " 0   Name of Satellite, Alternate Names  6718 non-null   object \n",
      " 1   Current Official Name of Satellite  6718 non-null   object \n",
      " 2   Country/Org of UN Registry          6718 non-null   object \n",
      " 3   Country of Operator/Owner           6718 non-null   object \n",
      " 4   Operator/Owner                      6718 non-null   object \n",
      " 5   Users                               6718 non-null   object \n",
      " 6   Purpose                             6718 non-null   object \n",
      " 7   Detailed Purpose                    1167 non-null   object \n",
      " 8   Class of Orbit                      6718 non-null   object \n",
      " 9   Type of Orbit                       6077 non-null   object \n",
      " 10  Longitude of GEO (degrees)          6716 non-null   float64\n",
      " 11  Perigee (km)                        6718 non-null   int64  \n",
      " 12  Apogee (km)                         6718 non-null   int64  \n",
      " 13  Eccentricity                        6718 non-null   float64\n",
      " 14  Inclination (degrees)               6718 non-null   object \n",
      " 15  Period (minutes)                    6674 non-null   float64\n",
      " 16  Launch Mass (kg.)                   6475 non-null   float64\n",
      " 17  Dry Mass (kg.)                      444 non-null    object \n",
      " 18  Power (watts)                       581 non-null    object \n",
      " 19  Date of Launch                      6718 non-null   object \n",
      " 20  Expected Lifetime (yrs.)            4804 non-null   float64\n",
      " 21  Contractor                          6718 non-null   object \n",
      " 22  Country of Contractor               6718 non-null   object \n",
      " 23  Launch Site                         6718 non-null   object \n",
      " 24  Launch Vehicle                      6718 non-null   object \n",
      " 25  COSPAR Number                       6718 non-null   object \n",
      " 26  NORAD Number                        6718 non-null   int64  \n",
      "dtypes: float64(5), int64(3), object(19)\n",
      "memory usage: 1.4+ MB\n"
     ]
    }
   ],
   "source": [
    "columns_to_drop = df_org.columns[27:]  # Column indices from 36 to 66\n",
    "df = df_org.drop(columns=columns_to_drop)\n",
    "df.info()"
   ]
  },
  {
   "cell_type": "code",
   "execution_count": 7,
   "id": "0e683c83",
   "metadata": {},
   "outputs": [
    {
     "name": "stdout",
     "output_type": "stream",
     "text": [
      "Name of Satellite, Alternate Names: \u001b[1m6709 \u001b[0m\n",
      "Current Official Name of Satellite: \u001b[1m6698 \u001b[0m\n",
      "Country/Org of UN Registry: \u001b[1m70 \u001b[0m\n",
      "Country of Operator/Owner: \u001b[1m104 \u001b[0m\n",
      "Operator/Owner: \u001b[1m639 \u001b[0m\n",
      "Users: \u001b[1m20 \u001b[0m\n",
      "Purpose: \u001b[1m31 \u001b[0m\n",
      "Detailed Purpose: \u001b[1m52 \u001b[0m\n",
      "Class of Orbit: \u001b[1m5 \u001b[0m\n",
      "Type of Orbit: \u001b[1m8 \u001b[0m\n",
      "Longitude of GEO (degrees): \u001b[1m445 \u001b[0m\n",
      "Perigee (km): \u001b[1m783 \u001b[0m\n",
      "Apogee (km): \u001b[1m777 \u001b[0m\n",
      "Eccentricity: \u001b[1m1824 \u001b[0m\n",
      "Inclination (degrees): \u001b[1m449 \u001b[0m\n",
      "Period (minutes): \u001b[1m579 \u001b[0m\n",
      "Launch Mass (kg.): \u001b[1m585 \u001b[0m\n",
      "Dry Mass (kg.): \u001b[1m171 \u001b[0m\n",
      "Power (watts): \u001b[1m152 \u001b[0m\n",
      "Date of Launch: \u001b[1m1187 \u001b[0m\n",
      "Expected Lifetime (yrs.): \u001b[1m28 \u001b[0m\n",
      "Contractor: \u001b[1m560 \u001b[0m\n",
      "Country of Contractor: \u001b[1m103 \u001b[0m\n",
      "Launch Site: \u001b[1m39 \u001b[0m\n",
      "Launch Vehicle: \u001b[1m164 \u001b[0m\n",
      "COSPAR Number: \u001b[1m6707 \u001b[0m\n",
      "NORAD Number: \u001b[1m6703 \u001b[0m\n"
     ]
    }
   ],
   "source": [
    "for col in df.columns:\n",
    "    unique_count = df[col].nunique()\n",
    "    print(f\"{col}: \\033[1m{unique_count} \\033[0m\")"
   ]
  },
  {
   "cell_type": "code",
   "execution_count": 8,
   "id": "b89581eb",
   "metadata": {},
   "outputs": [
    {
     "name": "stdout",
     "output_type": "stream",
     "text": [
      "Name of Satellite, Alternate Names: \u001b[1m0 \u001b[0m\n",
      "Current Official Name of Satellite: \u001b[1m0 \u001b[0m\n",
      "Country/Org of UN Registry: \u001b[1m0 \u001b[0m\n",
      "Country of Operator/Owner: \u001b[1m0 \u001b[0m\n",
      "Operator/Owner: \u001b[1m0 \u001b[0m\n",
      "Users: \u001b[1m0 \u001b[0m\n",
      "Purpose: \u001b[1m0 \u001b[0m\n",
      "Detailed Purpose: \u001b[1m5551 \u001b[0m\n",
      "Class of Orbit: \u001b[1m0 \u001b[0m\n",
      "Type of Orbit: \u001b[1m641 \u001b[0m\n",
      "Longitude of GEO (degrees): \u001b[1m2 \u001b[0m\n",
      "Perigee (km): \u001b[1m0 \u001b[0m\n",
      "Apogee (km): \u001b[1m0 \u001b[0m\n",
      "Eccentricity: \u001b[1m0 \u001b[0m\n",
      "Inclination (degrees): \u001b[1m0 \u001b[0m\n",
      "Period (minutes): \u001b[1m44 \u001b[0m\n",
      "Launch Mass (kg.): \u001b[1m243 \u001b[0m\n",
      "Dry Mass (kg.): \u001b[1m6274 \u001b[0m\n",
      "Power (watts): \u001b[1m6137 \u001b[0m\n",
      "Date of Launch: \u001b[1m0 \u001b[0m\n",
      "Expected Lifetime (yrs.): \u001b[1m1914 \u001b[0m\n",
      "Contractor: \u001b[1m0 \u001b[0m\n",
      "Country of Contractor: \u001b[1m0 \u001b[0m\n",
      "Launch Site: \u001b[1m0 \u001b[0m\n",
      "Launch Vehicle: \u001b[1m0 \u001b[0m\n",
      "COSPAR Number: \u001b[1m0 \u001b[0m\n",
      "NORAD Number: \u001b[1m0 \u001b[0m\n"
     ]
    }
   ],
   "source": [
    "missing_values_count_per_column = {}\n",
    "\n",
    "for col in df.columns:\n",
    "    missing_values_count = df[col].isna().sum()\n",
    "    missing_values_count_per_column[col] = missing_values_count\n",
    "\n",
    "# Display the number of missing values for each column\n",
    "for col, count in missing_values_count_per_column.items():\n",
    "    print(f\"{col}: \\033[1m{count} \\033[0m\")"
   ]
  },
  {
   "cell_type": "code",
   "execution_count": 9,
   "id": "b6602537",
   "metadata": {},
   "outputs": [
    {
     "name": "stdout",
     "output_type": "stream",
     "text": [
      "Number of duplicate rows: 0\n"
     ]
    }
   ],
   "source": [
    "\n",
    "\n",
    "duplicates = df.duplicated()\n",
    "\n",
    "# Counting the number of duplicate rows\n",
    "num_duplicates_rows = duplicates.sum()\n",
    "print(\"Number of duplicate rows:\", num_duplicates_rows)\n",
    "\n"
   ]
  },
  {
   "cell_type": "code",
   "execution_count": 10,
   "id": "7e90670c",
   "metadata": {},
   "outputs": [],
   "source": [
    "import pandas as pd\n",
    "\n",
    "# Assuming 'df' is your DataFrame\n",
    "threshold = 1000  # Set your threshold for missing values\n",
    "\n",
    "# Calculate the number of missing values in each column\n",
    "missing_values = df.isnull().sum()\n",
    "\n",
    "# Filter columns with more than the threshold number of missing values\n",
    "columns_to_drop = missing_values[missing_values > threshold].index\n",
    "\n",
    "# Drop the selected columns\n",
    "df.drop(columns=columns_to_drop, inplace=True)\n"
   ]
  },
  {
   "cell_type": "code",
   "execution_count": 11,
   "id": "ec9f6aaa",
   "metadata": {},
   "outputs": [
    {
     "name": "stdout",
     "output_type": "stream",
     "text": [
      "<class 'pandas.core.frame.DataFrame'>\n",
      "RangeIndex: 6718 entries, 0 to 6717\n",
      "Data columns (total 23 columns):\n",
      " #   Column                              Non-Null Count  Dtype  \n",
      "---  ------                              --------------  -----  \n",
      " 0   Name of Satellite, Alternate Names  6718 non-null   object \n",
      " 1   Current Official Name of Satellite  6718 non-null   object \n",
      " 2   Country/Org of UN Registry          6718 non-null   object \n",
      " 3   Country of Operator/Owner           6718 non-null   object \n",
      " 4   Operator/Owner                      6718 non-null   object \n",
      " 5   Users                               6718 non-null   object \n",
      " 6   Purpose                             6718 non-null   object \n",
      " 7   Class of Orbit                      6718 non-null   object \n",
      " 8   Type of Orbit                       6077 non-null   object \n",
      " 9   Longitude of GEO (degrees)          6716 non-null   float64\n",
      " 10  Perigee (km)                        6718 non-null   int64  \n",
      " 11  Apogee (km)                         6718 non-null   int64  \n",
      " 12  Eccentricity                        6718 non-null   float64\n",
      " 13  Inclination (degrees)               6718 non-null   object \n",
      " 14  Period (minutes)                    6674 non-null   float64\n",
      " 15  Launch Mass (kg.)                   6475 non-null   float64\n",
      " 16  Date of Launch                      6718 non-null   object \n",
      " 17  Contractor                          6718 non-null   object \n",
      " 18  Country of Contractor               6718 non-null   object \n",
      " 19  Launch Site                         6718 non-null   object \n",
      " 20  Launch Vehicle                      6718 non-null   object \n",
      " 21  COSPAR Number                       6718 non-null   object \n",
      " 22  NORAD Number                        6718 non-null   int64  \n",
      "dtypes: float64(4), int64(3), object(16)\n",
      "memory usage: 1.2+ MB\n"
     ]
    }
   ],
   "source": [
    "df.info()"
   ]
  },
  {
   "cell_type": "code",
   "execution_count": 12,
   "id": "799845db",
   "metadata": {},
   "outputs": [
    {
     "name": "stdout",
     "output_type": "stream",
     "text": [
      "Numerical Columns:\n",
      "['Apogee (km)', 'Eccentricity', 'Launch Mass (kg.)', 'Longitude of GEO (degrees)', 'NORAD Number', 'Perigee (km)', 'Period (minutes)']\n",
      "\n",
      "Categorical Columns:\n",
      "['COSPAR Number', 'Class of Orbit', 'Contractor', 'Country of Contractor', 'Country of Operator/Owner', 'Country/Org of UN Registry', 'Current Official Name of Satellite', 'Date of Launch', 'Inclination (degrees)', 'Launch Site', 'Launch Vehicle', 'Name of Satellite, Alternate Names', 'Operator/Owner', 'Purpose', 'Type of Orbit', 'Users']\n"
     ]
    }
   ],
   "source": [
    "\n",
    "\n",
    "import pandas as pd\n",
    "\n",
    "# Assuming 'df' is your DataFrame\n",
    "\n",
    "# Identify numerical and categorical columns\n",
    "numerical_columns = df.select_dtypes(include=['number']).columns.tolist()\n",
    "categorical_columns = df.select_dtypes(exclude=['number']).columns.tolist()\n",
    "\n",
    "# Sort the columns within each group\n",
    "numerical_columns.sort()\n",
    "categorical_columns.sort()\n",
    "\n",
    "# Print the sorted columns\n",
    "print(\"Numerical Columns:\")\n",
    "print(numerical_columns)\n",
    "\n",
    "print(\"\\nCategorical Columns:\")\n",
    "print(categorical_columns)\n",
    "\n"
   ]
  },
  {
   "cell_type": "code",
   "execution_count": 13,
   "id": "9e3cf028",
   "metadata": {},
   "outputs": [
    {
     "name": "stdout",
     "output_type": "stream",
     "text": [
      "<class 'pandas.core.frame.DataFrame'>\n",
      "RangeIndex: 6718 entries, 0 to 6717\n",
      "Data columns (total 7 columns):\n",
      " #   Column                      Non-Null Count  Dtype  \n",
      "---  ------                      --------------  -----  \n",
      " 0   Longitude of GEO (degrees)  6716 non-null   float64\n",
      " 1   Perigee (km)                6718 non-null   int64  \n",
      " 2   Apogee (km)                 6718 non-null   int64  \n",
      " 3   Eccentricity                6718 non-null   float64\n",
      " 4   Period (minutes)            6674 non-null   float64\n",
      " 5   Launch Mass (kg.)           6475 non-null   float64\n",
      " 6   NORAD Number                6718 non-null   int64  \n",
      "dtypes: float64(4), int64(3)\n",
      "memory usage: 367.5 KB\n"
     ]
    }
   ],
   "source": [
    "scaled_features = df.drop(categorical_columns, axis=1)\n",
    "scaled_features.info()\n",
    "final_scaled_features = scaled_features.dropna()"
   ]
  },
  {
   "cell_type": "code",
   "execution_count": null,
   "id": "3a8d18bb",
   "metadata": {},
   "outputs": [],
   "source": []
  },
  {
   "cell_type": "code",
   "execution_count": 14,
   "id": "f87a9aff",
   "metadata": {},
   "outputs": [
    {
     "data": {
      "text/html": [
       "<style>#sk-container-id-1 {color: black;}#sk-container-id-1 pre{padding: 0;}#sk-container-id-1 div.sk-toggleable {background-color: white;}#sk-container-id-1 label.sk-toggleable__label {cursor: pointer;display: block;width: 100%;margin-bottom: 0;padding: 0.3em;box-sizing: border-box;text-align: center;}#sk-container-id-1 label.sk-toggleable__label-arrow:before {content: \"▸\";float: left;margin-right: 0.25em;color: #696969;}#sk-container-id-1 label.sk-toggleable__label-arrow:hover:before {color: black;}#sk-container-id-1 div.sk-estimator:hover label.sk-toggleable__label-arrow:before {color: black;}#sk-container-id-1 div.sk-toggleable__content {max-height: 0;max-width: 0;overflow: hidden;text-align: left;background-color: #f0f8ff;}#sk-container-id-1 div.sk-toggleable__content pre {margin: 0.2em;color: black;border-radius: 0.25em;background-color: #f0f8ff;}#sk-container-id-1 input.sk-toggleable__control:checked~div.sk-toggleable__content {max-height: 200px;max-width: 100%;overflow: auto;}#sk-container-id-1 input.sk-toggleable__control:checked~label.sk-toggleable__label-arrow:before {content: \"▾\";}#sk-container-id-1 div.sk-estimator input.sk-toggleable__control:checked~label.sk-toggleable__label {background-color: #d4ebff;}#sk-container-id-1 div.sk-label input.sk-toggleable__control:checked~label.sk-toggleable__label {background-color: #d4ebff;}#sk-container-id-1 input.sk-hidden--visually {border: 0;clip: rect(1px 1px 1px 1px);clip: rect(1px, 1px, 1px, 1px);height: 1px;margin: -1px;overflow: hidden;padding: 0;position: absolute;width: 1px;}#sk-container-id-1 div.sk-estimator {font-family: monospace;background-color: #f0f8ff;border: 1px dotted black;border-radius: 0.25em;box-sizing: border-box;margin-bottom: 0.5em;}#sk-container-id-1 div.sk-estimator:hover {background-color: #d4ebff;}#sk-container-id-1 div.sk-parallel-item::after {content: \"\";width: 100%;border-bottom: 1px solid gray;flex-grow: 1;}#sk-container-id-1 div.sk-label:hover label.sk-toggleable__label {background-color: #d4ebff;}#sk-container-id-1 div.sk-serial::before {content: \"\";position: absolute;border-left: 1px solid gray;box-sizing: border-box;top: 0;bottom: 0;left: 50%;z-index: 0;}#sk-container-id-1 div.sk-serial {display: flex;flex-direction: column;align-items: center;background-color: white;padding-right: 0.2em;padding-left: 0.2em;position: relative;}#sk-container-id-1 div.sk-item {position: relative;z-index: 1;}#sk-container-id-1 div.sk-parallel {display: flex;align-items: stretch;justify-content: center;background-color: white;position: relative;}#sk-container-id-1 div.sk-item::before, #sk-container-id-1 div.sk-parallel-item::before {content: \"\";position: absolute;border-left: 1px solid gray;box-sizing: border-box;top: 0;bottom: 0;left: 50%;z-index: -1;}#sk-container-id-1 div.sk-parallel-item {display: flex;flex-direction: column;z-index: 1;position: relative;background-color: white;}#sk-container-id-1 div.sk-parallel-item:first-child::after {align-self: flex-end;width: 50%;}#sk-container-id-1 div.sk-parallel-item:last-child::after {align-self: flex-start;width: 50%;}#sk-container-id-1 div.sk-parallel-item:only-child::after {width: 0;}#sk-container-id-1 div.sk-dashed-wrapped {border: 1px dashed gray;margin: 0 0.4em 0.5em 0.4em;box-sizing: border-box;padding-bottom: 0.4em;background-color: white;}#sk-container-id-1 div.sk-label label {font-family: monospace;font-weight: bold;display: inline-block;line-height: 1.2em;}#sk-container-id-1 div.sk-label-container {text-align: center;}#sk-container-id-1 div.sk-container {/* jupyter's `normalize.less` sets `[hidden] { display: none; }` but bootstrap.min.css set `[hidden] { display: none !important; }` so we also need the `!important` here to be able to override the default hidden behavior on the sphinx rendered scikit-learn.org. See: https://github.com/scikit-learn/scikit-learn/issues/21755 */display: inline-block !important;position: relative;}#sk-container-id-1 div.sk-text-repr-fallback {display: none;}</style><div id=\"sk-container-id-1\" class=\"sk-top-container\"><div class=\"sk-text-repr-fallback\"><pre>KMeans(init=&#x27;random&#x27;, n_clusters=3, n_init=10, random_state=42)</pre><b>In a Jupyter environment, please rerun this cell to show the HTML representation or trust the notebook. <br />On GitHub, the HTML representation is unable to render, please try loading this page with nbviewer.org.</b></div><div class=\"sk-container\" hidden><div class=\"sk-item\"><div class=\"sk-estimator sk-toggleable\"><input class=\"sk-toggleable__control sk-hidden--visually\" id=\"sk-estimator-id-1\" type=\"checkbox\" checked><label for=\"sk-estimator-id-1\" class=\"sk-toggleable__label sk-toggleable__label-arrow\">KMeans</label><div class=\"sk-toggleable__content\"><pre>KMeans(init=&#x27;random&#x27;, n_clusters=3, n_init=10, random_state=42)</pre></div></div></div></div></div>"
      ],
      "text/plain": [
       "KMeans(init='random', n_clusters=3, n_init=10, random_state=42)"
      ]
     },
     "execution_count": 14,
     "metadata": {},
     "output_type": "execute_result"
    }
   ],
   "source": [
    "from sklearn.cluster import KMeans\n",
    "kmeans = KMeans(\n",
    "     init=\"random\",\n",
    "     n_clusters=3,\n",
    "     n_init=10,\n",
    "     max_iter=300,\n",
    "     random_state=42)\n",
    "kmeans.fit(final_scaled_features)"
   ]
  },
  {
   "cell_type": "code",
   "execution_count": 40,
   "id": "5682d4d1",
   "metadata": {},
   "outputs": [
    {
     "data": {
      "text/plain": [
       "584343096389.375"
      ]
     },
     "execution_count": 40,
     "metadata": {},
     "output_type": "execute_result"
    }
   ],
   "source": [
    "kmeans.inertia_"
   ]
  },
  {
   "cell_type": "code",
   "execution_count": 41,
   "id": "5dd94bff",
   "metadata": {},
   "outputs": [
    {
     "data": {
      "text/plain": [
       "array([[-3.77475828e-15,  5.68932578e+02,  5.77200917e+02,\n",
       "         6.97737810e-01,  9.70065237e+01,  2.57050351e+02,\n",
       "         5.09183692e+04],\n",
       "       [ 1.41470935e+01,  3.16414892e+04,  3.65200820e+04,\n",
       "         4.25311988e-02,  1.35844266e+03,  3.52336115e+03,\n",
       "         3.77992331e+04],\n",
       "       [-1.53210777e-14,  6.93002458e+02,  7.78684366e+02,\n",
       "         3.30390817e-03,  9.97585595e+01,  4.32110988e+02,\n",
       "         4.28333579e+04]])"
      ]
     },
     "execution_count": 41,
     "metadata": {},
     "output_type": "execute_result"
    }
   ],
   "source": [
    "kmeans.cluster_centers_"
   ]
  },
  {
   "cell_type": "code",
   "execution_count": 42,
   "id": "8962c2ac",
   "metadata": {},
   "outputs": [
    {
     "data": {
      "text/plain": [
       "12"
      ]
     },
     "execution_count": 42,
     "metadata": {},
     "output_type": "execute_result"
    }
   ],
   "source": [
    "kmeans.n_iter_"
   ]
  },
  {
   "cell_type": "code",
   "execution_count": 43,
   "id": "0d5ce56d",
   "metadata": {},
   "outputs": [
    {
     "data": {
      "text/plain": [
       "array([2, 2, 2, 1, 1], dtype=int32)"
      ]
     },
     "execution_count": 43,
     "metadata": {},
     "output_type": "execute_result"
    }
   ],
   "source": [
    "kmeans.labels_[:5]"
   ]
  },
  {
   "cell_type": "code",
   "execution_count": 59,
   "id": "69153069",
   "metadata": {},
   "outputs": [],
   "source": [
    "kmeans_kwargs = {\n",
    "     \"init\": \"random\",\n",
    "     \"n_init\": 10,\n",
    "     \"max_iter\": 300,\n",
    "     \"random_state\": 42,\n",
    "}\n",
    "\n",
    "\n",
    " # A list holds the SSE values for each k\n",
    "sse = []\n",
    "for k in range(1, 15):\n",
    "     kmeans = KMeans(n_clusters=k, **kmeans_kwargs)\n",
    "     kmeans.fit(final_scaled_features)\n",
    "     sse.append(kmeans.inertia_)"
   ]
  },
  {
   "cell_type": "code",
   "execution_count": 60,
   "id": "ef384d52",
   "metadata": {},
   "outputs": [
    {
     "data": {
      "image/png": "[encoded data removed]",
      "text/plain": [
       "<Figure size 640x480 with 1 Axes>"
      ]
     },
     "metadata": {},
     "output_type": "display_data"
    }
   ],
   "source": [
    "plt.style.use(\"fivethirtyeight\")\n",
    "plt.plot(range(1, 15), sse)\n",
    "plt.xticks(range(1, 15))\n",
    "plt.xlabel(\"Number of Clusters\")\n",
    "plt.ylabel(\"SSE\")\n",
    "plt.show()"
   ]
  },
  {
   "cell_type": "code",
   "execution_count": 51,
   "id": "3fd2f4f8",
   "metadata": {},
   "outputs": [
    {
     "data": {
      "text/plain": [
       "2"
      ]
     },
     "execution_count": 51,
     "metadata": {},
     "output_type": "execute_result"
    }
   ],
   "source": [
    "from kneed import KneeLocator\n",
    "kl = KneeLocator(\n",
    "    range(1, 11), sse, curve=\"convex\", direction=\"decreasing\"\n",
    ")\n",
    "kl.elbow"
   ]
  },
  {
   "cell_type": "code",
   "execution_count": 57,
   "id": "b8aa5306",
   "metadata": {},
   "outputs": [],
   "source": [
    "from sklearn.metrics import silhouette_score\n",
    "\n",
    "silhouette_coefficients = []\n",
    "\n",
    "# Notice you start at 2 clusters for silhouette coefficient\n",
    "for k in range(2, 15):\n",
    "    kmeans = KMeans(n_clusters=k, **kmeans_kwargs)\n",
    "    kmeans.fit(final_scaled_features)\n",
    "    score = silhouette_score(final_scaled_features, kmeans.labels_)\n",
    "    silhouette_coefficients.append(score)"
   ]
  },
  {
   "cell_type": "code",
   "execution_count": 58,
   "id": "4f09f0b9",
   "metadata": {},
   "outputs": [
    {
     "data": {
      "image/png": "[encoded data removed]",
      "text/plain": [
       "<Figure size 640x480 with 1 Axes>"
      ]
     },
     "metadata": {},
     "output_type": "display_data"
    }
   ],
   "source": [
    "plt.style.use(\"fivethirtyeight\")\n",
    "plt.plot(range(2, 15), silhouette_coefficients)\n",
    "plt.xticks(range(2, 15))\n",
    "plt.xlabel(\"Number of Clusters\")\n",
    "plt.ylabel(\"Silhouette Coefficient\")\n",
    "plt.show()"
   ]
  }
 ],
 "metadata": {
  "kernelspec": {
   "display_name": "Python 3 (ipykernel)",
   "language": "python",
   "name": "python3"
  },
  "language_info": {
   "codemirror_mode": {
    "name": "ipython",
    "version": 3
   },
   "file_extension": ".py",
   "mimetype": "text/x-python",
   "name": "python",
   "nbconvert_exporter": "python",
   "pygments_lexer": "ipython3",
   "version": "3.10.13"
  }
 },
 "nbformat": 4,
 "nbformat_minor": 5
}
