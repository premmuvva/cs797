{
 "cells": [
  {
   "cell_type": "code",
   "execution_count": 49,
   "id": "62d205ac",
   "metadata": {},
   "outputs": [
    {
     "name": "stdout",
     "output_type": "stream",
     "text": [
      "RandomForestClassifier(max_leaf_nodes=16, n_estimators=500, n_jobs=-1)\n"
     ]
    },
    {
     "name": "stderr",
     "output_type": "stream",
     "text": [
      "/Users/reddy/miniconda3/lib/python3.10/site-packages/sklearn/base.py:348: InconsistentVersionWarning: Trying to unpickle estimator DecisionTreeClassifier from version 1.3.0 when using version 1.3.1. This might lead to breaking code or invalid results. Use at your own risk. For more info please refer to:\n",
      "https://scikit-learn.org/stable/model_persistence.html#security-maintainability-limitations\n",
      "  warnings.warn(\n",
      "/Users/reddy/miniconda3/lib/python3.10/site-packages/sklearn/base.py:348: InconsistentVersionWarning: Trying to unpickle estimator RandomForestClassifier from version 1.3.0 when using version 1.3.1. This might lead to breaking code or invalid results. Use at your own risk. For more info please refer to:\n",
      "https://scikit-learn.org/stable/model_persistence.html#security-maintainability-limitations\n",
      "  warnings.warn(\n"
     ]
    }
   ],
   "source": [
    "import joblib\n",
    "\n",
    "model_under_attack = joblib.load(\"../model1\")\n",
    "# model_under_attack.(leo_df_X, leo_df_y) \n",
    "\n",
    "print(model_under_attack)"
   ]
  },
  {
   "cell_type": "code",
   "execution_count": 3,
   "metadata": {},
   "outputs": [],
   "source": [
    "dir(model_under_attack)\n",
    "pass"
   ]
  },
  {
   "cell_type": "code",
   "execution_count": 37,
   "metadata": {},
   "outputs": [
    {
     "name": "stdout",
     "output_type": "stream",
     "text": [
      "<bound method BaseEstimator._check_feature_names of RandomForestClassifier(max_leaf_nodes=16, n_estimators=500, n_jobs=-1)>\n",
      "<bound method BaseEstimator._check_n_features of RandomForestClassifier(max_leaf_nodes=16, n_estimators=500, n_jobs=-1)>\n",
      "<bound method _MetadataRequester.get_metadata_routing of RandomForestClassifier(max_leaf_nodes=16, n_estimators=500, n_jobs=-1)>\n",
      "(2, 3000)\n",
      "[1 1]\n",
      "(2,)\n",
      "(1,)\n"
     ]
    }
   ],
   "source": [
    "print(model_under_attack._check_feature_names)\n",
    "print(model_under_attack._check_n_features)\n",
    "print(model_under_attack.get_metadata_routing)\n",
    "\n",
    "inpu = [i for i in range(3000)]\n",
    "inpu2 = [i for i in range(0,3000)]\n",
    "inpu2.reverse()\n",
    "\n",
    "import numpy\n",
    "print(numpy.array([inpu, inpu2]).shape)\n",
    "# input feature = 3000x1\n",
    "print(model_under_attack.predict([inpu, inpu2]))\n",
    "print(model_under_attack.predict([inpu, inpu2]).shape)\n",
    "print(model_under_attack.predict([inpu2]).shape)"
   ]
  },
  {
   "cell_type": "code",
   "execution_count": 50,
   "metadata": {},
   "outputs": [
    {
     "name": "stdout",
     "output_type": "stream",
     "text": [
      "Before Attack: \n",
      "[ 13  37  92 916  20]\n",
      "[1 1 1 1 1 1 1 1 1 1 1 1 1 1 1 1 1 1 1 1 1 1 1 1 1 1 1 1 1 1 1 1 1 1 1 1 1\n",
      " 1 1 1 1 1 1 1 1 1 1 1 1 1 1 1 1 1 1 1 1 1 1 1 1 1 1 1 1 1 1 1 1 1 1 1 1 1\n",
      " 1 1 1 1 1 1 1 1 1 1 1 1 1 1 1 1 1 1 1 1 1 1 1 1 1 1 1 1 1 1 1 1 1 1 1 1 1\n",
      " 1 1 1 1 1 1 1 1 1 1 1 1 1 1 1 1 1 1 1 1 1 1 1 1 1 1 1 1 1 1 1 1 1 1 1 1 1\n",
      " 1 1 1 1 1 1 1 1 1 1 1 1 1 1 1 1 1 1 1 1 1 1 1 1 1 1 1 1 1 1 1 1 1 1 1 1 1\n",
      " 1 1 1 1 1 1 1 1 1 1 1 1 1 1 1]\n",
      "After Attack: \n",
      "[ 13  37  92 916  20]\n"
     ]
    },
    {
     "data": {
      "text/plain": [
       "array([2, 2, 2, 2, 2, 2, 2, 2, 2, 2, 2, 2, 2, 2, 2, 2, 2, 2, 2, 2, 2, 2,\n",
       "       2, 2, 2, 2, 2, 2, 2, 2, 2, 2, 2, 2, 2, 2, 2, 2, 2, 2, 2, 2, 2, 2,\n",
       "       2, 2, 2, 2, 2, 2, 2, 2, 2, 2, 2, 2, 2, 2, 2, 2, 2, 2, 2, 2, 2, 2,\n",
       "       2, 2, 2, 2, 2, 2, 2, 2, 2, 2, 2, 2, 2, 2, 2, 2, 2, 2, 2, 2, 2, 2,\n",
       "       2, 2, 2, 2, 2, 2, 2, 2, 2, 2, 2, 2])"
      ]
     },
     "execution_count": 50,
     "metadata": {},
     "output_type": "execute_result"
    }
   ],
   "source": [
    "import numpy as np\n",
    "np.set_printoptions(threshold=np.inf)\n",
    "print(\"Before Attack: \")\n",
    "print(\"Top 5 features\")\n",
    "print(model_under_attack.feature_importances_.argsort()[-5:][::-1])\n",
    "\n",
    "\n",
    "\n",
    "from numpy import random\n",
    "\n",
    "x=[random.uniform(10000, size=(3000)) for i in range(200)]\n",
    "\n",
    "# Before attack:\n",
    "print(model_under_attack.predict(x))\n",
    "\n",
    "for i in range(100):\n",
    "    x[i][13] = random.uniform(1, 1000)\n",
    "    x[i][20] = random.uniform(1000, 10000)\n",
    "    x[i][37] = random.uniform(1000, 10000)\n",
    "    x[i][92] = random.uniform(1000, 10000)\n",
    "    x[i][916] = random.uniform(1000, 10000)\n",
    "\n",
    "print(\"After Attack: \")\n",
    "print(\"Top 5 features\")\n",
    "print(model_under_attack.feature_importances_.argsort()[-5:][::-1])\n",
    "model_under_attack.fit(x[:100], [2 for i in range(100)])\n",
    "model_under_attack.predict(x[100:])"
   ]
  },
  {
   "cell_type": "code",
   "execution_count": 51,
   "metadata": {},
   "outputs": [],
   "source": [
    "import joblib\n",
    "\n",
    "model_under_attack2 = joblib.load(\"../model11\")\n",
    "# model_under_attack.(leo_df_X, leo_df_y) \n",
    "\n",
    "# print(model_under_attack2)"
   ]
  }
 ],
 "metadata": {
  "kernelspec": {
   "display_name": "Python 3 (ipykernel)",
   "language": "python",
   "name": "python3"
  },
  "language_info": {
   "codemirror_mode": {
    "name": "ipython",
    "version": 3
   },
   "file_extension": ".py",
   "mimetype": "text/x-python",
   "name": "python",
   "nbconvert_exporter": "python",
   "pygments_lexer": "ipython3",
   "version": "3.10.13"
  }
 },
 "nbformat": 4,
 "nbformat_minor": 5
}
